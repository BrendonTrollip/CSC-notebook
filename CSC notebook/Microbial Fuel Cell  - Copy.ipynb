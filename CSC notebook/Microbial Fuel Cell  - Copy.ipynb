{
 "cells": [
  {
   "cell_type": "markdown",
   "metadata": {},
   "source": [
    "# Microbial Fuel Cells"
   ]
  },
  {
   "cell_type": "markdown",
   "metadata": {},
   "source": [
    "Microbial fuel cells (MFC) are bio-electrochemical systems mainly used to generate energy\n",
    "from living electroactive bacteria or fungi due to their metabolic processes. It can also be\n",
    "utilised to produce a certain product or for specific environmental advantages, such as\n",
    "wastewater treatment. One of the ways to curb climate change is to employ renewable bioenergy from wastes, resulting in a neutral or even negative carbon footprint. "
   ]
  },
  {
   "cell_type": "markdown",
   "metadata": {},
   "source": [
    "## How do MFC work?"
   ]
  },
  {
   "cell_type": "markdown",
   "metadata": {},
   "source": [
    "Now that you are familiar with the reduction reaction of $NAD^{+}$ to NADH, we can now include it in our MFC discussion, [recap on NADH](https://www.youtube.com/watch?v=Kb-4uuCYLvE).\n",
    "As we know by now mitochondria are the enegry powerhouses of the cell by accumulating or releasing chemical enegry in the form of substrates like NADH or NADPH. These substrates transfer electrons to the metabolites and when the process is carried out in anaerobic conditions, NADH and NADPH become electroactive. "
   ]
  },
  {
   "cell_type": "markdown",
   "metadata": {},
   "source": [
    "<img src =\"Mito.jpg\" style=width:357px;height:328px/>"
   ]
  },
  {
   "cell_type": "code",
   "execution_count": 13,
   "metadata": {},
   "outputs": [],
   "source": [
    "#![](Mito.jpg)"
   ]
  },
  {
   "cell_type": "markdown",
   "metadata": {},
   "source": [
    "The operating principle comprises of the division of the half reactions of oxidation and reduction in two seperate compartments. In the anodic compartment, electroactive bacteria catalyse substrate by oxidation in anaerobic conditions and transfer the electrons to the electrode. These electrones then flow through an external electrical circuit to the cathodic compartment where oxygen is the electron acceptor and reduced in aerobic conditions. To ensure neutralilty, the $H^{+}$ flows through a cation permeable membrane to the cathodic compartment.  "
   ]
  },
  {
   "cell_type": "markdown",
   "metadata": {},
   "source": [
    "![Figure 1: MFC diagram](MFCdiagram.png)"
   ]
  },
  {
   "cell_type": "markdown",
   "metadata": {},
   "source": [
    "Let's have a look at the following equation in cmol balance form:"
   ]
  },
  {
   "cell_type": "markdown",
   "metadata": {},
   "source": [
    "$$ C H_{2} O + NH_{3} \\to C H_{1.8} O_{0.5} N_{0.2} + CO_{2} + H^{+} + e^{-} $$"
   ]
  },
  {
   "cell_type": "markdown",
   "metadata": {},
   "source": [
    "#### This equation looks very familiar!"
   ]
  },
  {
   "cell_type": "markdown",
   "metadata": {},
   "source": [
    "In the equation above glucose is the substrate used and ammonia is used as a nitrogen source for the bacteria. Although every bacteria has their very own chemical formula, we will be using that of the familiar biomass estimation, X. The only addition from previous work, is the hydrogen atom, represented as an electron and proton. Balancing this equation is done as in previous chapters. Let's try and balance the above equation."
   ]
  },
  {
   "cell_type": "markdown",
   "metadata": {},
   "source": [
    "$$(-r_S)\\ CH_2 O+(-r_A)\\ NH_3 \\to (r_{X})\\ CH_{1.8} O_{0.5} N_{0.2} +(r_C)\\ CO_2 + (r_H)\\ H $$"
   ]
  },
  {
   "cell_type": "markdown",
   "metadata": {},
   "source": [
    "As said earlier the proton and electron can be seen as a hydrogen atom for simplicity of the balance. The proton and electron will then have the same stoichiometric coefficient as hydrogen, as can be seen below,"
   ]
  },
  {
   "cell_type": "markdown",
   "metadata": {},
   "source": [
    "$$ YH \\to YH^{+} + Ye^{-} $$"
   ]
  },
  {
   "cell_type": "markdown",
   "metadata": {},
   "source": [
    "The matrix will look at follows, "
   ]
  },
  {
   "cell_type": "markdown",
   "metadata": {},
   "source": [
    "$$\\begin{bmatrix}-1&0&1&1&0\\\\-2&-3&1.8&0&1\\\\-1&0&0.5&2&0\\\\0&1&0.2&0&0\\\\1&0&0&0&0\\end{bmatrix}\\times\\begin{bmatrix}-r_S\\\\-r_A\\\\r_{X}\\\\r_C\\\\r_H\\end{bmatrix}=\\begin{bmatrix}0\\\\0\\\\0\\\\0\\\\1\\end{bmatrix}$$\n"
   ]
  },
  {
   "cell_type": "markdown",
   "metadata": {},
   "source": [
    "And solving in python:"
   ]
  },
  {
   "cell_type": "code",
   "execution_count": 1,
   "metadata": {},
   "outputs": [
    {
     "name": "stdout",
     "output_type": "stream",
     "text": [
      "[[1.        ]\n",
      " [0.13333333]\n",
      " [0.66666667]\n",
      " [0.33333333]\n",
      " [1.2       ]]\n",
      "1.0\n",
      "0.13333333333333333\n"
     ]
    }
   ],
   "source": [
    "import numpy\n",
    "S = numpy.matrix([[-1, 0, 1, 1, 0],  \n",
    "                  [-2, -3, 1.8, 0,1], \n",
    "                  [-1, 0, 0.5, 2, 0],\n",
    "                  [0, -1, 0.2, 0, 0],\n",
    "                  [1, 0, 0, 0, 0]])\n",
    "\n",
    "C = numpy.matrix([[0,0,0,0,1]]).T\n",
    "Y = numpy.linalg.solve(S,C)\n",
    "print(Y)\n",
    "print(Y[0,0])\n",
    "print (Y[1,0])"
   ]
  },
  {
   "cell_type": "markdown",
   "metadata": {},
   "source": [
    "Thus the balanced equation will have the following form,"
   ]
  },
  {
   "cell_type": "markdown",
   "metadata": {},
   "source": [
    "$$ CH_2 O+ \\frac{2}{15} NH_3 \\to  \\frac{2}{3} CH_{1.8} O_{0.5} N_{0.2} + \\frac{1}{3}CO_2 + 1.2H^+ +1.2e^- $$\n"
   ]
  },
  {
   "cell_type": "markdown",
   "metadata": {},
   "source": [
    "As can be seen by the equation above, for every cmol of glucose, 1.2 electrons are formed that will flow throughv the external electrical circuit. We will now model the equation in a batch reactor using a similiar method to that wwhat was used to model bacth fermentation. As the volume in a bacth reactor doesn't change, it creates very simple differential equations. "
   ]
  },
  {
   "cell_type": "markdown",
   "metadata": {},
   "source": [
    "\\begin{align*}\n",
    "\\text{Biomass: }&\\frac{dC_X}{dt}=r_X C_X -K_dC_X\\\\\n",
    "\\text{Substrate: }&\\frac{dC_S}{dt}=-r_S C_X \\\\\n",
    "\\text{Hydrogen: }&\\frac{dC_H}{dt}=r_H C_X \\\\\n",
    "\\end{align*}"
   ]
  },
  {
   "cell_type": "markdown",
   "metadata": {},
   "source": [
    "Where, S, is the substrate (glucose in this case) and X, is the biomass. $K_{d}$ is known as the bacterial endogenous decay coefficient and can be assumed to be 0.02 $\\mu_{max}$. This will be considered later and for now it is assumed the bacteria doesn't decay. Substrate inhibition will be assumed for the growth of the bacteria using the following equation:"
   ]
  },
  {
   "cell_type": "markdown",
   "metadata": {},
   "source": [
    "$$ \\mu = \\mu_{max} \\frac{C_S}{K_M + C_S} $$"
   ]
  },
  {
   "cell_type": "markdown",
   "metadata": {},
   "source": [
    "Let's try solving the differential equations. First we will define the required parameters:"
   ]
  },
  {
   "cell_type": "code",
   "execution_count": 47,
   "metadata": {},
   "outputs": [],
   "source": [
    "import numpy as np\n",
    "import matplotlib.pyplot as plt\n",
    "from scipy.integrate import odeint\n",
    "%matplotlib inline\n",
    "\n",
    "MMX = 1*12 + 1.8*1 + 0.5*16 + 0.2*14\n",
    "\n",
    "mu_max = 0.12\n",
    "K_M = 0.0004\n",
    "\n",
    "c_S_0 = 5/30\n",
    "c_X_0 = 0.001/MMX\n",
    "c_H_0 = 0/1\n",
    "V_0 = 1"
   ]
  },
  {
   "cell_type": "markdown",
   "metadata": {},
   "source": [
    "As can be observed by the cell above, the molar mass of the biomass is calculated. There are parameters given for $\\mu max$ and $K_{m}$, respectively. The initial values of the substrate, $C_{S}$ and biomass, $C_{X}$, is given in units of grams and then converted to cmols. As for the volume, it will stay unchanged at 1 L, as it is a batch reactor, but might change later when we consider CSTR's."
   ]
  },
  {
   "cell_type": "code",
   "execution_count": 48,
   "metadata": {},
   "outputs": [],
   "source": [
    "def rates(var):\n",
    "    c_S, c_X, c_H, V = var\n",
    "    \n",
    "    mu = mu_max*c_S/(K_M + c_S)\n",
    "    \n",
    "    S_base = np.matrix([[1,    0,    1,     1,    0,  ],\n",
    "                        [2,    3,    1.8,   0,    1,  ],\n",
    "                        [1,    0,    0.5,   2,    0,  ],\n",
    "                        [0,    1,    0.2,   0,    0   ]])\n",
    "#                       rS,   rA,   rX,    rC,   rH  \n",
    "#                       r[0], r[1], r[2],  r[3], r[4] \n",
    "\n",
    "    S_spec = [1, 0, 0, 0, 0] # S0\n",
    "    A_spec = [0, 1, 0, 0, 0] # S1\n",
    "    X_spec = [0, 0, 1, 0, 0] # S2\n",
    "    C_spec = [0, 0, 0, 1, 0] # S3\n",
    "    H_spec = [0, 0, 0, 0, 1] # S4\n",
    "    \n",
    "    S = np.vstack([S_base, X_spec])\n",
    "    C = np.array([0, 0, 0, 0, mu])\n",
    "    r = np.linalg.solve(S, C)\n",
    "    return r"
   ]
  },
  {
   "cell_type": "markdown",
   "metadata": {},
   "source": [
    "Here, the same first 4 rows of the matrix used above, is implemented. Anyone of the 5 specifications can be used. The specification of the biomass was implemented here, thus making the biomass our basis. Numpy.vstack allows you to add another row into an existing matrix. It is then solved as usual."
   ]
  },
  {
   "cell_type": "code",
   "execution_count": 49,
   "metadata": {},
   "outputs": [],
   "source": [
    "def ferm(var, t):\n",
    "    c_S, c_X, c_H, V = var\n",
    "    \n",
    "    r_S, r_A, r_X, r_C, r_H = rates(var)\n",
    "\n",
    "    dc_Sdt = r_S*c_X\n",
    "    dc_Xdt = r_X*c_X\n",
    "    dc_Hdt = r_H*c_X\n",
    "    dVdt = 0\n",
    "    return dc_Sdt, dc_Xdt, dc_Hdt, dVdt"
   ]
  },
  {
   "cell_type": "markdown",
   "metadata": {},
   "source": [
    "The three differential equations are now included in the 'ferm' function and ready to be integrated! Note, as stated earlier, the decay coefficient, $K_{d}$ will not be considered now.\n",
    "As it is a batch reactor, the change in volume is zero. "
   ]
  },
  {
   "cell_type": "code",
   "execution_count": 58,
   "metadata": {},
   "outputs": [],
   "source": [
    "c_i_0 = [c_S_0, c_X_0, c_H_0, V_0]\n",
    "tspan = np.linspace(0.000001, 80, 101)\n",
    "\n",
    "c_i = odeint(ferm, c_i_0, tspan)\n",
    "c_S, c_X, c_H, V = c_i.T"
   ]
  },
  {
   "cell_type": "markdown",
   "metadata": {},
   "source": [
    "The differential equation are solved using odeint from the scipy.integrate module."
   ]
  },
  {
   "cell_type": "markdown",
   "metadata": {},
   "source": [
    "Although the concentration of all the considered species, $C_{S}$, $C_{X}$ and $C_{H}$ have been calculted, we are interested in the rates of how the increase/decrease. We simply make lists and append the corresponding rate value to the list. Why we do this become apperent later..."
   ]
  },
  {
   "cell_type": "code",
   "execution_count": 59,
   "metadata": {},
   "outputs": [],
   "source": [
    "list_cS = []\n",
    "list_cX = []\n",
    "list_cH = []\n",
    "\n",
    "for i in range(0, len(c_S)):\n",
    "    r_S, r_A, r_X, r_C, r_H = rates([c_S[i], c_X[i], c_H[i], V[i]])\n",
    "    list_cS.append(r_S)\n",
    "    list_cX.append(r_X)\n",
    "    list_cH.append(r_H)\n",
    "    \n",
    "r_S = np.array(list_cS)\n",
    "r_H = np.array(list_cH)"
   ]
  },
  {
   "cell_type": "markdown",
   "metadata": {},
   "source": [
    "Finally, we plot our results."
   ]
  },
  {
   "cell_type": "code",
   "execution_count": 60,
   "metadata": {},
   "outputs": [
    {
     "data": {
      "text/plain": [
       "<matplotlib.legend.Legend at 0x26f7a9d2160>"
      ]
     },
     "execution_count": 60,
     "metadata": {},
     "output_type": "execute_result"
    },
    {
     "data": {
      "image/png": "[encoded data removed]",
      "text/plain": [
       "<Figure size 432x288 with 1 Axes>"
      ]
     },
     "metadata": {
      "needs_background": "light"
     },
     "output_type": "display_data"
    }
   ],
   "source": [
    "plt.plot(tspan, c_S*30, label = 'Cs')\n",
    "plt.plot(tspan, c_X*MMX, label = 'Cx')\n",
    "plt.plot(tspan, c_H*1, label = 'CH')\n",
    "plt.ylabel('Concentration [g/L]')\n",
    "plt.xlabel('Time [h]')\n",
    "plt.legend()"
   ]
  },
  {
   "cell_type": "markdown",
   "metadata": {},
   "source": [
    "Let's have a look at the following plot."
   ]
  },
  {
   "cell_type": "code",
   "execution_count": 61,
   "metadata": {},
   "outputs": [
    {
     "data": {
      "text/plain": [
       "Text(0.5,0,'Time [h]')"
      ]
     },
     "execution_count": 61,
     "metadata": {},
     "output_type": "execute_result"
    },
    {
     "data": {
      "image/png": "[encoded data removed]",
      "text/plain": [
       "<Figure size 432x288 with 1 Axes>"
      ]
     },
     "metadata": {
      "needs_background": "light"
     },
     "output_type": "display_data"
    }
   ],
   "source": [
    "plt.plot(tspan, r_H)\n",
    "plt.ylabel('[1/h]')\n",
    "plt.xlabel('Time [h]')"
   ]
  },
  {
   "cell_type": "markdown",
   "metadata": {},
   "source": [
    "What do you see?\n"
   ]
  },
  {
   "cell_type": "markdown",
   "metadata": {},
   "source": [
    "As we mentioned earlier, hydrogen consists of a proton and electron. The rate of hydrogen production stays constant at 0.216 $\\frac{1}{h}$, but at t = 91 h, drops to zero, due to glucose being depleted. To get a better look at the production of hydrogen we will plot $C_{H}$ vs time on its own axis."
   ]
  },
  {
   "cell_type": "code",
   "execution_count": 62,
   "metadata": {},
   "outputs": [
    {
     "data": {
      "text/plain": [
       "Text(0.5,0,'Time [h]')"
      ]
     },
     "execution_count": 62,
     "metadata": {},
     "output_type": "execute_result"
    },
    {
     "data": {
      "image/png": "[encoded data removed]",
      "text/plain": [
       "<Figure size 432x288 with 1 Axes>"
      ]
     },
     "metadata": {
      "needs_background": "light"
     },
     "output_type": "display_data"
    }
   ],
   "source": [
    "plt.plot(tspan, c_H*1, label = 'CH')\n",
    "plt.ylabel('Concentration [g/L]')\n",
    "plt.xlabel('Time [h]')"
   ]
  },
  {
   "cell_type": "markdown",
   "metadata": {},
   "source": [
    "How do you calculate current from here? Well, current has units of ampere, which is coulumb per second. If we dig deep enough into high school chemistry, there exists a relationship between moles and coulomb...\n"
   ]
  },
  {
   "cell_type": "markdown",
   "metadata": {},
   "source": [
    "If we now take this from a mass concentration to a molar concentration (it will effectively stay unchanged as the molar mass of hydrogen is 1). Remember something called Avogadro's number? It can convert moles to atoms by multiplying by 6.022 $\\times$ $10^{23}$. Let's calculate how many hydrogen atoms are present in the reactor at a specific time,"
   ]
  },
  {
   "cell_type": "code",
   "execution_count": 63,
   "metadata": {},
   "outputs": [
    {
     "data": {
      "text/plain": [
       "Text(0.5,0,'Time [h]')"
      ]
     },
     "execution_count": 63,
     "metadata": {},
     "output_type": "execute_result"
    },
    {
     "data": {
      "image/png": "[encoded data removed]",
      "text/plain": [
       "<Figure size 432x288 with 1 Axes>"
      ]
     },
     "metadata": {
      "needs_background": "light"
     },
     "output_type": "display_data"
    }
   ],
   "source": [
    "H_atoms = c_H*6.022e23\n",
    "plt.plot(tspan, H_atoms)\n",
    "plt.ylabel('Number of hydrogen atoms')\n",
    "plt.xlabel('Time [h]')"
   ]
  },
  {
   "cell_type": "markdown",
   "metadata": {},
   "source": [
    "Now comes the part that has been repeated numerous times. A hydrogen consists of a proton and a electron, this means the amount of hydrogen atoms equals the amount of electrons and one electron is equal to 1.60217646 $\\times$ $10^{-19}$ coulomb and as stated earlier coulomb per second is ampere!"
   ]
  },
  {
   "cell_type": "code",
   "execution_count": 64,
   "metadata": {},
   "outputs": [
    {
     "data": {
      "text/plain": [
       "Text(0.5,0,'Time [h]')"
      ]
     },
     "execution_count": 64,
     "metadata": {},
     "output_type": "execute_result"
    },
    {
     "data": {
      "image/png": "[encoded data removed]",
      "text/plain": [
       "<Figure size 432x288 with 1 Axes>"
      ]
     },
     "metadata": {
      "needs_background": "light"
     },
     "output_type": "display_data"
    }
   ],
   "source": [
    "N_electrons = H_atoms\n",
    "Coulomb = N_electrons*1.60217646e-19\n",
    "\n",
    "tspan_seconds = tspan*60*60\n",
    "Ampere = Coulomb/tspan_seconds\n",
    "\n",
    "plt.plot(tspan, Ampere)\n",
    "plt.ylabel('Amperes [A]')\n",
    "plt.xlabel('Time [h]')"
   ]
  },
  {
   "cell_type": "markdown",
   "metadata": {},
   "source": [
    "And there it is the current produced over time from our biomass using glucose. Some interesting observations can be made. "
   ]
  },
  {
   "cell_type": "code",
   "execution_count": null,
   "metadata": {},
   "outputs": [],
   "source": []
  }
 ],
 "metadata": {
  "kernelspec": {
   "display_name": "Python 3",
   "language": "python",
   "name": "python3"
  },
  "language_info": {
   "codemirror_mode": {
    "name": "ipython",
    "version": 3
   },
   "file_extension": ".py",
   "mimetype": "text/x-python",
   "name": "python",
   "nbconvert_exporter": "python",
   "pygments_lexer": "ipython3",
   "version": "3.7.0"
  }
 },
 "nbformat": 4,
 "nbformat_minor": 2
}
