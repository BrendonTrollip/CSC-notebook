{
 "cells": [
  {
   "cell_type": "markdown",
   "metadata": {},
   "source": [
    "# Microbial Fuel Cells"
   ]
  },
  {
   "cell_type": "markdown",
   "metadata": {},
   "source": [
    "Microbial fuel cells (MFC) are bio-electrochemical systems mainly used to generate energy\n",
    "from living electroactive bacteria or fungi due to their metabolic processes. It can also be\n",
    "utilised to produce a certain product or for specific environmental advantages, such as\n",
    "wastewater treatment. One of the ways to curb climate change is to employ renewable bioenergy from wastes, resulting in a neutral or even negative carbon footprint. "
   ]
  },
  {
   "cell_type": "markdown",
   "metadata": {},
   "source": [
    "## How do MFC work?"
   ]
  },
  {
   "cell_type": "markdown",
   "metadata": {},
   "source": [
    "Now that you are familiar with the reduction reaction of $NAD^{+}$ to NADH, we can now include it in our MFC discussion, [recap on NADH](https://www.youtube.com/watch?v=Kb-4uuCYLvE).\n",
    "As we know by now mitochondria are the enegry powerhouses of the cell by accumulating or releasing chemical enegry in the form of substrates like NADH or NADPH. These substrates transfer electrons to the metabolites and when the process is carried out in anaerobic conditions, NADH and NADPH become electroactive. "
   ]
  },
  {
   "cell_type": "markdown",
   "metadata": {},
   "source": [
    "#<img src =\"Mito.jpg\" style=width:357px;height:328px/>"
   ]
  },
  {
   "cell_type": "markdown",
   "metadata": {},
   "source": [
    "![](Mito.jpg)"
   ]
  },
  {
   "cell_type": "markdown",
   "metadata": {},
   "source": [
    "The operating principle comprises of the division of the half reactions of oxidation and reduction in two seperate compartments. In the anodic compartment, electroactive bacteria catalyse substrate by oxidation in anaerobic conditions and transfer the electrons to the electrode. These electrones then flow through an external electrical circuit to the cathodic compartment where oxygen is the electron acceptor and reduced in aerobic conditions. To ensure neutralilty, the $H^{+}$ flows through a cation permeable membrane to the cathodic compartment.  "
   ]
  },
  {
   "cell_type": "markdown",
   "metadata": {},
   "source": [
    "![Figure 1: MFC diagram](MFCdiagram.png)"
   ]
  },
  {
   "cell_type": "code",
   "execution_count": null,
   "metadata": {},
   "outputs": [],
   "source": []
  }
 ],
 "metadata": {
  "kernelspec": {
   "display_name": "Python 3",
   "language": "python",
   "name": "python3"
  },
  "language_info": {
   "codemirror_mode": {
    "name": "ipython",
    "version": 3
   },
   "file_extension": ".py",
   "mimetype": "text/x-python",
   "name": "python",
   "nbconvert_exporter": "python",
   "pygments_lexer": "ipython3",
   "version": "3.7.0"
  }
 },
 "nbformat": 4,
 "nbformat_minor": 2
}
