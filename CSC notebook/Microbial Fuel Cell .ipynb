{
 "cells": [
  {
   "cell_type": "markdown",
   "metadata": {},
   "source": [
    "# Microbial Fuel Cells"
   ]
  },
  {
   "cell_type": "markdown",
   "metadata": {},
   "source": [
    "Microbial fuel cells (MFC) are bio-electrochemical systems mainly used to generate energy\n",
    "from living electroactive bacteria or fungi due to their metabolic processes. It can also be\n",
    "utilised to produce a certain product or for specific environmental advantages, such as\n",
    "wastewater treatment. One of the ways to curb climate change is to employ renewable bioenergy from wastes, resulting in a neutral or even negative carbon footprint. "
   ]
  },
  {
   "cell_type": "markdown",
   "metadata": {},
   "source": [
    "## How do MFC work?"
   ]
  },
  {
   "cell_type": "markdown",
   "metadata": {},
   "source": [
    "Now that you are familiar with the reduction reaction of $NAD^{+}$ to NADH, we can now include it in our MFC discussion, [recap on NADH](https://www.youtube.com/watch?v=Kb-4uuCYLvE).\n",
    "As we know by now mitochondria are the enegry powerhouses of the cell by accumulating or releasing chemical enegry in the form of substrates like NADH or NADPH. These substrates transfer electrons to the metabolites and when the process is carried out in anaerobic conditions, NADH and NADPH become electroactive. "
   ]
  },
  {
   "cell_type": "markdown",
   "metadata": {},
   "source": [
    "#<img src =\"Mito.jpg\" style=width:357px;height:328px/>"
   ]
  },
  {
   "cell_type": "markdown",
   "metadata": {},
   "source": [
    "![](Mito.jpg)"
   ]
  },
  {
   "cell_type": "markdown",
   "metadata": {},
   "source": [
    "The operating principle comprises of the division of the half reactions of oxidation and reduction in two seperate compartments. In the anodic compartment, electroactive bacteria catalyse substrate by oxidation in anaerobic conditions and transfer the electrons to the electrode. These electrones then flow through an external electrical circuit to the cathodic compartment where oxygen is the electron acceptor and reduced in aerobic conditions. To ensure neutralilty, the $H^{+}$ flows through a cation permeable membrane to the cathodic compartment.  "
   ]
  },
  {
   "cell_type": "markdown",
   "metadata": {},
   "source": [
    "![Figure 1: MFC diagram](MFCdiagram.png)"
   ]
  },
  {
   "cell_type": "markdown",
   "metadata": {},
   "source": [
    "Let's have a look at the following equation in cmol balance form:"
   ]
  },
  {
   "cell_type": "markdown",
   "metadata": {},
   "source": [
    "$$ C H_{2} O + NH_{3} \\to C H_{1.8} O_{0.5} N_{0.2} + CO_{2} + H^{+} + e^{-} $$"
   ]
  },
  {
   "cell_type": "markdown",
   "metadata": {},
   "source": [
    "#### This equation looks very familiar!"
   ]
  },
  {
   "cell_type": "markdown",
   "metadata": {},
   "source": [
    "In the equation above glucose is the substrate used and ammonia is used as a nitrogen source for the bacteria. Although every bacteria has their very own chemical formula, we will be using that of the familiar biomass estimation, X. The only addition from previous work, is the hydrogen atom, represented as an electron and proton. Balancing this equation is done as in previous chapters. Let's try and balance the above equation."
   ]
  },
  {
   "cell_type": "markdown",
   "metadata": {},
   "source": [
    "$$(-r_S)\\ CH_2 O+(-r_A)\\ NH_3 \\to (r_{X})\\ CH_{1.8} O_{0.5} N_{0.2} +(r_C)\\ CO_2 + (r_H)\\ H $$"
   ]
  },
  {
   "cell_type": "markdown",
   "metadata": {},
   "source": [
    "As said earlier the proton and electron can be seen as a hydrogen atom for simplicity of the balance. The proton and electron will then have the same stoichiometric coefficient as hydrogen, as can be seen below,"
   ]
  },
  {
   "cell_type": "markdown",
   "metadata": {},
   "source": [
    "$$ YH \\to YH^{+} + Ye^{-} $$"
   ]
  },
  {
   "cell_type": "markdown",
   "metadata": {},
   "source": [
    "The matrix will look at follows, "
   ]
  },
  {
   "cell_type": "markdown",
   "metadata": {},
   "source": [
    "$$\\begin{bmatrix}-1&0&1&1&0\\\\-2&-3&1.8&0&1\\\\-1&0&0.5&2&0\\\\0&1&0.2&0&0\\\\1&0&0&0&0\\end{bmatrix}\\times\\begin{bmatrix}-r_S\\\\-r_A\\\\r_{X}\\\\r_C\\\\r_H\\end{bmatrix}=\\begin{bmatrix}0\\\\0\\\\0\\\\0\\\\1\\end{bmatrix}$$\n"
   ]
  },
  {
   "cell_type": "markdown",
   "metadata": {},
   "source": [
    "And solving in python:"
   ]
  },
  {
   "cell_type": "code",
   "execution_count": 9,
   "metadata": {},
   "outputs": [
    {
     "name": "stdout",
     "output_type": "stream",
     "text": [
      "[[1.        ]\n",
      " [0.13333333]\n",
      " [0.66666667]\n",
      " [0.33333333]\n",
      " [1.2       ]]\n"
     ]
    }
   ],
   "source": [
    "import numpy\n",
    "S = numpy.matrix([[-1, 0, 1, 1, 0],  \n",
    "                  [-2, -3, 1.8, 0,1], \n",
    "                  [-1, 0, 0.5, 2, 0],\n",
    "                  [0, -1, 0.2, 0, 0],\n",
    "                  [1, 0, 0, 0, 0]])\n",
    "\n",
    "C = numpy.matrix([[0,0,0,0,1]]).T\n",
    "Y = numpy.linalg.solve(S,C)\n",
    "print(Y)"
   ]
  },
  {
   "cell_type": "markdown",
   "metadata": {},
   "source": [
    "Thus the balanced equation will have the following form,"
   ]
  },
  {
   "cell_type": "markdown",
   "metadata": {},
   "source": [
    "$$ CH_2 O+ \\frac{2}{15} NH_3 \\to  \\frac{2}{3} CH_{1.8} O_{0.5} N_{0.2} + \\frac{1}{3}CO_2 + 1.2H^+ +1.2e^- $$\n"
   ]
  },
  {
   "cell_type": "code",
   "execution_count": null,
   "metadata": {},
   "outputs": [],
   "source": []
  }
 ],
 "metadata": {
  "kernelspec": {
   "display_name": "Python 3",
   "language": "python",
   "name": "python3"
  },
  "language_info": {
   "codemirror_mode": {
    "name": "ipython",
    "version": 3
   },
   "file_extension": ".py",
   "mimetype": "text/x-python",
   "name": "python",
   "nbconvert_exporter": "python",
   "pygments_lexer": "ipython3",
   "version": "3.7.0"
  }
 },
 "nbformat": 4,
 "nbformat_minor": 2
}
